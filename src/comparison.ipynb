{
 "cells": [
  {
   "cell_type": "markdown",
   "metadata": {},
   "source": [
    "# Comparison Analysis Between Different Frameworks\n",
    "---"
   ]
  },
  {
   "cell_type": "markdown",
   "metadata": {},
   "source": [
    "Compare between popular big data storage layers and raw file formats in terms of performance and usage. \\\n",
    "Testing is done by comparing performance on high and low cardinality columns to simulate real big data environments.\n",
    "\n",
    "**Compared:**\n",
    "- `Delta Lake`: Using partitioning and Z-order sort\n",
    "- `Apache Iceberg`: Using partitioning, bucketing and Z-order sort\n",
    "- `Hive Metastore (High Cardinality)`: Spark default hive metastore table with bucketing\n",
    "- `Hive Metastore (Low Cardinality)`: Spark default hive metastore table with partitioning\n",
    "- `Parquet`: Raw Parquet\n",
    "- `CSV`: Raw CSV single file"
   ]
  },
  {
   "cell_type": "markdown",
   "metadata": {},
   "source": [
    "### Spark Session Setup\n",
    "---\n",
    "Create a `SparkSession` which can utilize both Delta and Iceberg storage layers\n",
    "- To keep the test environment constant, have fixed driver and executor memory at 2GB\n",
    "- Local hive metastore has been set under `data/spark-warehouse` as default and will store all data and metadata there"
   ]
  },
  {
   "cell_type": "code",
   "execution_count": 30,
   "metadata": {},
   "outputs": [],
   "source": [
    "import time\n",
    "from pyspark.sql import DataFrame\n",
    "import pyspark.sql.functions as F\n",
    "from delta.tables import DeltaTable\n",
    "from subprocess import check_output\n",
    "from pyspark.sql.window import Window\n",
    "from spark_config import create_spark_session"
   ]
  },
  {
   "cell_type": "code",
   "execution_count": 31,
   "metadata": {},
   "outputs": [],
   "source": [
    "# Create custom Spark session\n",
    "spark = create_spark_session(\n",
    "    app=\"ComparisonApp\",\n",
    "    warehouse_location=\"../data/\",\n",
    "    deltadb=\"delta_db\",\n",
    "    icebergdb=\"iceberg_db\"\n",
    ")"
   ]
  },
  {
   "cell_type": "code",
   "execution_count": 3,
   "metadata": {},
   "outputs": [
    {
     "name": "stdout",
     "output_type": "stream",
     "text": [
      "+--------------+-----------------------------------------------------------------+\n",
      "|info_name     |info_value                                                       |\n",
      "+--------------+-----------------------------------------------------------------+\n",
      "|Catalog Name  |spark_catalog                                                    |\n",
      "|Namespace Name|default                                                          |\n",
      "|Comment       |default database                                                 |\n",
      "|Location      |file:/Users/wonseokchoi/Documents/Projects/data_quality_mini/data|\n",
      "|Owner         |wonseokchoi                                                      |\n",
      "|Properties    |                                                                 |\n",
      "+--------------+-----------------------------------------------------------------+\n",
      "\n"
     ]
    }
   ],
   "source": [
    "# Confirm warehouse path is set to where we want it to be\n",
    "spark.sql(\"DESCRIBE DATABASE EXTENDED default\").show(truncate=False)"
   ]
  },
  {
   "cell_type": "markdown",
   "metadata": {},
   "source": [
    "### The Data\n",
    "---\n",
    "- **Main Table**: Main dataset with designated number of rows generated\n",
    "- **High Cardinality**: Secondary table with distinct ID column\n",
    "- **Low Cardinality**: Secondary table with low cardinality link to Main Table"
   ]
  },
  {
   "cell_type": "code",
   "execution_count": 4,
   "metadata": {},
   "outputs": [
    {
     "name": "stdout",
     "output_type": "stream",
     "text": [
      "root\n",
      " |-- user_id: long (nullable = false)\n",
      " |-- product_id: long (nullable = true)\n",
      " |-- price: integer (nullable = true)\n",
      " |-- day_of_year: long (nullable = true)\n",
      " |-- product_name: string (nullable = false)\n",
      " |-- transaction_type: string (nullable = false)\n",
      "\n",
      "root\n",
      " |-- transaction_id: long (nullable = false)\n",
      " |-- store_id: integer (nullable = true)\n",
      " |-- discount: integer (nullable = true)\n",
      " |-- transaction_type: string (nullable = false)\n",
      "\n",
      "root\n",
      " |-- store_id: long (nullable = false)\n",
      " |-- store_region: long (nullable = true)\n",
      " |-- store_type: string (nullable = false)\n",
      "\n"
     ]
    }
   ],
   "source": [
    "# Designated number of rows to generate\n",
    "num_rows = 100_000_000\n",
    "\n",
    "# Main Table Dataframe\n",
    "main_df = spark.range(num_rows).selectExpr(\n",
    "    \"id as user_id\", \n",
    "    \"(id % 1000) as product_id\", \n",
    "    \"cast(rand() * 100 as int) as price\", \n",
    "    \"(id % 365) as day_of_year\"\n",
    ").withColumn(\n",
    "    \"product_name\", \n",
    "    F.expr(\"CASE WHEN (product_id % 5) = 0 THEN 'Laptop' \" +\n",
    "            \"WHEN (product_id % 5) = 1 THEN 'Mobile' \" +\n",
    "            \"WHEN (product_id % 5) = 2 THEN 'Tablet' \" +\n",
    "            \"WHEN (product_id % 5) = 3 THEN 'Headphones' \" +\n",
    "            \"ELSE 'Accessories' END\")\n",
    ").withColumn(\n",
    "    \"transaction_type\", \n",
    "    F.expr(\"CASE WHEN (price < 50) THEN 'Low Value' \" +\n",
    "            \"WHEN (price >= 50 AND price < 80) THEN 'Medium Value' \" +\n",
    "            \"ELSE 'High Value' END\")\n",
    ")\n",
    "\n",
    "# High Cardinality Table Dataframe\n",
    "high_cardinality_df = spark.range(num_rows).selectExpr(\n",
    "    \"id as transaction_id\",\n",
    "    \"cast(rand() * 500 as int) as store_id\",\n",
    "    \"cast(rand() * 100 as int) as discount\"\n",
    ").withColumn(\n",
    "    \"transaction_type\", \n",
    "    F.expr(\"CASE WHEN (discount < 20) THEN 'Low Discount' \" +\n",
    "            \"WHEN (discount >= 20 AND discount < 50) THEN 'Medium Discount' \" +\n",
    "            \"ELSE 'High Discount' END\")\n",
    ")\n",
    "\n",
    "# Low Cardinality Table Dataframe\n",
    "low_cardinality_df = spark.range(num_rows // 100).selectExpr(\n",
    "    \"id as store_id\",\n",
    "    \"(id % 3) as store_region\"\n",
    ").withColumn(\n",
    "    \"store_type\", \n",
    "    F.expr(\"CASE WHEN (store_region = 0) THEN 'Urban' \" +\n",
    "            \"WHEN (store_region = 1) THEN 'Suburban' \" +\n",
    "            \"ELSE 'Rural' END\")\n",
    ")\n",
    "\n",
    "main_df.printSchema()\n",
    "high_cardinality_df.printSchema()\n",
    "low_cardinality_df.printSchema()"
   ]
  },
  {
   "cell_type": "code",
   "execution_count": 5,
   "metadata": {},
   "outputs": [],
   "source": [
    "# Function to execute SQL query and return DataFrame\n",
    "def run_sql(query: str, show: bool=False) -> DataFrame:\n",
    "    \"\"\"\n",
    "    Run Spark.sql() method with option to return DataFrame head using .show() method.\n",
    "    Outputs time elapsed to run query.\n",
    "    :param query: SQL query to run\n",
    "    :param show: Boolean to indicate if the DataFrame should be shown\n",
    "    :return: None or Spark DataFrame Head\n",
    "    \"\"\"\n",
    "    start_time = time.time()\n",
    "    result = spark.sql(query)\n",
    "    \n",
    "    if show:\n",
    "        result.show(n=5, truncate=False)\n",
    "    \n",
    "    end_time = time.time()\n",
    "    elapsed_time = end_time - start_time\n",
    "    print(f\"Time elapsed: {elapsed_time} seconds\")\n",
    "    \n",
    "    return result"
   ]
  },
  {
   "cell_type": "markdown",
   "metadata": {},
   "source": [
    "### Setup\n",
    "---"
   ]
  },
  {
   "cell_type": "markdown",
   "metadata": {},
   "source": [
    "#### 1. Delta Lake Setup"
   ]
  },
  {
   "cell_type": "code",
   "execution_count": 6,
   "metadata": {},
   "outputs": [
    {
     "name": "stderr",
     "output_type": "stream",
     "text": [
      "                                                                                \r"
     ]
    },
    {
     "name": "stdout",
     "output_type": "stream",
     "text": [
      "Time elapsed: 4.613253831863403 seconds\n"
     ]
    },
    {
     "data": {
      "text/plain": [
       "DataFrame[]"
      ]
     },
     "execution_count": 6,
     "metadata": {},
     "output_type": "execute_result"
    }
   ],
   "source": [
    "q1_delta = \"\"\"\n",
    "    CREATE TABLE IF NOT EXISTS delta_db.main_table (\n",
    "        user_id BIGINT,\n",
    "        product_id BIGINT,\n",
    "        price INT,\n",
    "        day_of_year LONG,\n",
    "        product_name STRING,\n",
    "        transaction_type STRING\n",
    "    ) USING delta\n",
    "    PARTITIONED BY (product_name, day_of_year);\n",
    "\"\"\"\n",
    "\n",
    "run_sql(query=q1_delta, show=False)"
   ]
  },
  {
   "cell_type": "markdown",
   "metadata": {},
   "source": [
    "#### 2. Iceberg Setup"
   ]
  },
  {
   "cell_type": "code",
   "execution_count": 7,
   "metadata": {},
   "outputs": [
    {
     "name": "stdout",
     "output_type": "stream",
     "text": [
      "Time elapsed: 0.42108607292175293 seconds\n"
     ]
    },
    {
     "data": {
      "text/plain": [
       "DataFrame[]"
      ]
     },
     "execution_count": 7,
     "metadata": {},
     "output_type": "execute_result"
    }
   ],
   "source": [
    "q1_iceberg = \"\"\"\n",
    "    CREATE TABLE IF NOT EXISTS iceberg_db.main_table (\n",
    "        user_id bigint,\n",
    "        product_id bigint,\n",
    "        price int,\n",
    "        day_of_year long,\n",
    "        product_name string,\n",
    "        transaction_type string\n",
    "    ) USING iceberg\n",
    "    PARTITIONED BY (bucket(100, product_id)); \n",
    "\"\"\"\n",
    "\n",
    "run_sql(query=q1_iceberg, show=False)"
   ]
  },
  {
   "cell_type": "markdown",
   "metadata": {},
   "source": [
    "#### 3. Metastore Table Setup"
   ]
  },
  {
   "cell_type": "code",
   "execution_count": 8,
   "metadata": {},
   "outputs": [
    {
     "name": "stdout",
     "output_type": "stream",
     "text": [
      "Time elapsed: 0.013006210327148438 seconds\n",
      "Time elapsed: 0.07683086395263672 seconds\n",
      "Time elapsed: 0.01677989959716797 seconds\n"
     ]
    },
    {
     "data": {
      "text/plain": [
       "DataFrame[]"
      ]
     },
     "execution_count": 8,
     "metadata": {},
     "output_type": "execute_result"
    }
   ],
   "source": [
    "q0_default = \"CREATE DATABASE IF NOT EXISTS spark_catalog.default_db\"\n",
    "\n",
    "q1_default = \"\"\"\n",
    "    CREATE TABLE IF NOT EXISTS default_db.default_bucketed_table (\n",
    "        user_id bigint,\n",
    "        product_id bigint,\n",
    "        price int,\n",
    "        day_of_year long,\n",
    "        product_name string,\n",
    "        transaction_type string\n",
    "    ) USING parquet\n",
    "    CLUSTERED BY (product_id) INTO 100 BUCKETS;\n",
    "\"\"\"\n",
    "\n",
    "q2_default = \"\"\"\n",
    "    CREATE TABLE IF NOT EXISTS default_db.default_partitioned_table (\n",
    "        user_id bigint,\n",
    "        product_id bigint,\n",
    "        price int,\n",
    "        day_of_year long,\n",
    "        product_name string,\n",
    "        transaction_type string\n",
    "    ) USING parquet\n",
    "    PARTITIONED BY (day_of_year);\n",
    "\"\"\"\n",
    "\n",
    "run_sql(query=q0_default, show=False)\n",
    "run_sql(query=q1_default, show=False)\n",
    "run_sql(query=q2_default, show=False)"
   ]
  },
  {
   "cell_type": "markdown",
   "metadata": {},
   "source": [
    "### Initial Write Comparison\n",
    "---"
   ]
  },
  {
   "cell_type": "markdown",
   "metadata": {},
   "source": [
    "#### 0. Raw CSV"
   ]
  },
  {
   "cell_type": "code",
   "execution_count": 9,
   "metadata": {},
   "outputs": [
    {
     "name": "stderr",
     "output_type": "stream",
     "text": [
      "[Stage 7:===================================================>       (7 + 1) / 8]\r"
     ]
    },
    {
     "name": "stdout",
     "output_type": "stream",
     "text": [
      "Default Raw CSV Write: --- 16.198310136795044 seconds ---\n"
     ]
    },
    {
     "name": "stderr",
     "output_type": "stream",
     "text": [
      "                                                                                \r"
     ]
    }
   ],
   "source": [
    "start_time = time.time()\n",
    "main_df.write \\\n",
    "    .csv(\"../data/csv/main_table\", mode=\"overwrite\")\n",
    "print(\"Default Raw CSV Write: --- %s seconds ---\" % (time.time() - start_time))"
   ]
  },
  {
   "cell_type": "markdown",
   "metadata": {},
   "source": [
    "#### 1. Raw Parquet"
   ]
  },
  {
   "cell_type": "code",
   "execution_count": 10,
   "metadata": {},
   "outputs": [
    {
     "name": "stderr",
     "output_type": "stream",
     "text": [
      "[Stage 8:============================================>              (6 + 2) / 8]\r"
     ]
    },
    {
     "name": "stdout",
     "output_type": "stream",
     "text": [
      "Default Parquet Write: --- 16.16503095626831 seconds ---\n"
     ]
    },
    {
     "name": "stderr",
     "output_type": "stream",
     "text": [
      "                                                                                \r"
     ]
    }
   ],
   "source": [
    "start_time = time.time()\n",
    "main_df.write \\\n",
    "    .parquet(\"../data/parquet/main_table\", mode=\"overwrite\")\n",
    "print(\"Default Parquet Write: --- %s seconds ---\" % (time.time() - start_time))"
   ]
  },
  {
   "cell_type": "markdown",
   "metadata": {},
   "source": [
    "#### 2. Hive Metastore Tables"
   ]
  },
  {
   "cell_type": "code",
   "execution_count": 11,
   "metadata": {},
   "outputs": [
    {
     "name": "stderr",
     "output_type": "stream",
     "text": [
      "                                                                                \r"
     ]
    },
    {
     "name": "stdout",
     "output_type": "stream",
     "text": [
      "Default Bucketing Write: --- 205.63260102272034 seconds ---\n"
     ]
    }
   ],
   "source": [
    "start_time = time.time()\n",
    "main_df.write \\\n",
    "    .bucketBy(100, \"product_id\") \\\n",
    "    .sortBy(\"user_id\") \\\n",
    "    .mode(\"overwrite\") \\\n",
    "    .saveAsTable(\"default_db.default_bucketed_table\")\n",
    "print(\"Default Bucketing Write: --- %s seconds ---\" % (time.time() - start_time))"
   ]
  },
  {
   "cell_type": "code",
   "execution_count": 12,
   "metadata": {},
   "outputs": [
    {
     "name": "stderr",
     "output_type": "stream",
     "text": [
      "                                                                                \r"
     ]
    },
    {
     "name": "stdout",
     "output_type": "stream",
     "text": [
      "Default Partitioning Write: --- 59.914121866226196 seconds ---\n"
     ]
    }
   ],
   "source": [
    "start_time = time.time()\n",
    "main_df.write \\\n",
    "    .partitionBy(\"day_of_year\") \\\n",
    "    .mode(\"overwrite\") \\\n",
    "    .saveAsTable(\"default_db.default_partitioned_table\")\n",
    "print(\"Default Partitioning Write: --- %s seconds ---\" % (time.time() - start_time))"
   ]
  },
  {
   "cell_type": "markdown",
   "metadata": {},
   "source": [
    "#### 3. Delta Lake"
   ]
  },
  {
   "cell_type": "code",
   "execution_count": 13,
   "metadata": {},
   "outputs": [
    {
     "name": "stderr",
     "output_type": "stream",
     "text": [
      "                                                                                \r"
     ]
    },
    {
     "name": "stdout",
     "output_type": "stream",
     "text": [
      "Default Delta Write: --- 97.1530191898346 seconds ---\n"
     ]
    },
    {
     "name": "stderr",
     "output_type": "stream",
     "text": [
      "                                                                                \r"
     ]
    },
    {
     "name": "stdout",
     "output_type": "stream",
     "text": [
      "Default Delta Optimize: --- 199.96773290634155 seconds ---\n"
     ]
    }
   ],
   "source": [
    "start_time = time.time()\n",
    "main_df.write \\\n",
    "    .format(\"delta\") \\\n",
    "    .mode(\"overwrite\") \\\n",
    "    .saveAsTable(\"delta_db.main_table\")\n",
    "print(\"Default Delta Write: --- %s seconds ---\" % (time.time() - start_time))\n",
    "\n",
    "start_time = time.time()\n",
    "# Optimize Z-Ordering (This time use pythonic API)\n",
    "deltaTable = DeltaTable.forName(spark, \"delta_db.main_table\")\n",
    "optimizeBuilder = deltaTable.optimize()\n",
    "optimizeBuilder.executeZOrderBy([\"user_id\", \"product_id\"])\n",
    "print(\"Default Delta Optimize: --- %s seconds ---\" % (time.time() - start_time))"
   ]
  },
  {
   "cell_type": "markdown",
   "metadata": {},
   "source": [
    "#### 4. Iceberg"
   ]
  },
  {
   "cell_type": "code",
   "execution_count": 14,
   "metadata": {},
   "outputs": [
    {
     "name": "stderr",
     "output_type": "stream",
     "text": [
      "                                                                                \r"
     ]
    },
    {
     "name": "stdout",
     "output_type": "stream",
     "text": [
      "Default Iceberg Write: --- 20.474295139312744 seconds ---\n"
     ]
    },
    {
     "name": "stderr",
     "output_type": "stream",
     "text": [
      "                                                                                \r"
     ]
    },
    {
     "name": "stdout",
     "output_type": "stream",
     "text": [
      "Time elapsed: 213.2428011894226 seconds\n",
      "Default Iceberg Optimize: --- 213.2480080127716 seconds ---\n"
     ]
    }
   ],
   "source": [
    "start_time = time.time()\n",
    "main_df.write \\\n",
    "    .format(\"iceberg\") \\\n",
    "    .mode(\"overwrite\") \\\n",
    "    .saveAsTable(\"iceberg_db.main_table\")\n",
    "print(\"Default Iceberg Write: --- %s seconds ---\" % (time.time() - start_time))\n",
    "\n",
    "iceberg_zorder = \"\"\"\n",
    "CALL iceberg_db.system.rewrite_data_files(\n",
    "    table => 'iceberg_db.main_table', strategy => 'sort', \n",
    "    sort_order => 'zorder(user_id, product_id)'\n",
    ")\n",
    "\"\"\"\n",
    "start_time = time.time()\n",
    "run_sql(\n",
    "    query = iceberg_zorder, show=False\n",
    ")\n",
    "print(\"Default Iceberg Optimize: --- %s seconds ---\" % (time.time() - start_time))"
   ]
  },
  {
   "cell_type": "markdown",
   "metadata": {},
   "source": [
    "### Compression Comparison\n",
    "---"
   ]
  },
  {
   "cell_type": "code",
   "execution_count": 32,
   "metadata": {},
   "outputs": [
    {
     "name": "stdout",
     "output_type": "stream",
     "text": [
      "csv/main_table: 3.8G\n",
      "parquet/main_table: 645M\n",
      "default_db.db/default_bucketed_table: 598M\n",
      "default_db.db/default_partitioned_table: 621M\n",
      "delta_db.db/main_table: 1.2G\n",
      "iceberg_db/main_table: 470M\n"
     ]
    }
   ],
   "source": [
    "# List of paths to check\n",
    "paths = [\n",
    "    \"../data/csv/main_table\",\n",
    "    \"../data/parquet/main_table\",\n",
    "    \"../data/default_db.db/default_bucketed_table\",\n",
    "    \"../data/default_db.db/default_partitioned_table\",\n",
    "    \"../data/delta_db.db/main_table\",\n",
    "    \"../data/iceberg_db/main_table\"\n",
    "]\n",
    "\n",
    "# Output formatted sizes\n",
    "for path in paths:\n",
    "    try:\n",
    "        size = check_output([\"du\", \"-sh\", path]).decode(\"utf-8\").split()[0]\n",
    "        label = \"/\".join(path.split(\"/\")[-2:])\n",
    "        print(f\"{label}: {size}\")\n",
    "    except Exception as e:\n",
    "        print(f\"Failed to get size for {path}: {e}\")"
   ]
  },
  {
   "cell_type": "markdown",
   "metadata": {},
   "source": [
    "### High Cardinality Join Comparison\n",
    "---"
   ]
  },
  {
   "cell_type": "markdown",
   "metadata": {},
   "source": [
    "#### Setup: Create Temp Views for Join DataFrames"
   ]
  },
  {
   "cell_type": "code",
   "execution_count": 16,
   "metadata": {},
   "outputs": [],
   "source": [
    "# High Cardinality DataFrame\n",
    "high_cardinality_df.createOrReplaceTempView(\"high_card\")\n",
    "# Low Cardinality DataFrame\n",
    "low_cardinality_df.createOrReplaceTempView(\"low_card\")"
   ]
  },
  {
   "cell_type": "markdown",
   "metadata": {},
   "source": [
    "#### 0. CSV"
   ]
  },
  {
   "cell_type": "code",
   "execution_count": 17,
   "metadata": {},
   "outputs": [
    {
     "name": "stderr",
     "output_type": "stream",
     "text": [
      "[Stage 1864:=================================================>    (37 + 3) / 40]\r"
     ]
    },
    {
     "name": "stdout",
     "output_type": "stream",
     "text": [
      "+------------+----------------+---------+---------+-----------------+--------------+------------------+-------------+-----------------+\n",
      "|product_name|transaction_type|min_price|max_price|avg_price        |total_discount|total_transactions|running_total|running_avg      |\n",
      "+------------+----------------+---------+---------+-----------------+--------------+------------------+-------------+-----------------+\n",
      "|Accessories |High Value      |80       |99       |89.4948312319867 |39961734      |807736            |807736       |89.4948312319867 |\n",
      "|Tablet      |High Value      |80       |99       |89.49627143737823|39996605      |807818            |1615554      |89.49555133468246|\n",
      "|Mobile      |High Value      |80       |99       |89.50407044462351|39991525      |807897            |2423451      |89.49839103799614|\n",
      "|Laptop      |High Value      |80       |99       |89.49057357583195|40020453      |808472            |3231923      |89.49643667245509|\n",
      "|Headphones  |High Value      |80       |99       |89.50159977054295|40035295      |808866            |4040789      |89.49746929207267|\n",
      "+------------+----------------+---------+---------+-----------------+--------------+------------------+-------------+-----------------+\n",
      "only showing top 5 rows\n",
      "\n",
      "Time elapsed: 85.43602395057678 seconds\n"
     ]
    },
    {
     "name": "stderr",
     "output_type": "stream",
     "text": [
      "                                                                                \r"
     ]
    }
   ],
   "source": [
    "csv_schema = \"\"\"\n",
    "    user_id BIGINT,\n",
    "    product_id BIGINT,\n",
    "    price INT,\n",
    "    day_of_year LONG,\n",
    "    product_name STRING,\n",
    "    transaction_type STRING\n",
    "\"\"\"\n",
    "start_time = time.time()\n",
    "\n",
    "df_csv = spark.read.schema(csv_schema).csv(\"../data/csv/main_table\")\n",
    "\n",
    "# Alias DataFrames\n",
    "df_csv_alias = df_csv.alias(\"a\")\n",
    "high_cardinality_df_alias = high_cardinality_df.alias(\"b\")\n",
    "\n",
    "# Window specification\n",
    "windowSpec_csv = Window.partitionBy(\"a.transaction_type\").orderBy(\"total_transactions\")\n",
    "\n",
    "# Perform join, filter and aggregation\n",
    "df_csv_alias.join(\n",
    "    high_cardinality_df_alias,\n",
    "    (df_csv_alias[\"user_id\"] == high_cardinality_df_alias[\"transaction_id\"]) &\n",
    "    (high_cardinality_df_alias[\"store_id\"] >= 200) &\n",
    "    (high_cardinality_df_alias[\"store_id\"] <= 300)\n",
    ").groupBy(\n",
    "    \"a.product_name\",\n",
    "    \"a.transaction_type\"\n",
    ").agg(\n",
    "    F.min(\"a.price\").alias(\"min_price\"),\n",
    "    F.max(\"a.price\").alias(\"max_price\"),\n",
    "    F.avg(\"a.price\").alias(\"avg_price\"),\n",
    "    F.sum(\"b.discount\").alias(\"total_discount\"),\n",
    "    F.count(\"a.product_id\").alias(\"total_transactions\")\n",
    ").withColumn(\n",
    "    \"running_total\",\n",
    "    F.sum(\"total_transactions\").over(windowSpec_csv)\n",
    ").withColumn(\n",
    "    \"running_avg\",\n",
    "    F.avg(\"avg_price\").over(windowSpec_csv)\n",
    ").show(n=5, truncate=False)\n",
    "\n",
    "end_time = time.time()\n",
    "elapsed_time = end_time - start_time\n",
    "\n",
    "print(f\"Time elapsed: {elapsed_time} seconds\")"
   ]
  },
  {
   "cell_type": "markdown",
   "metadata": {},
   "source": [
    "#### 1. Parquet"
   ]
  },
  {
   "cell_type": "code",
   "execution_count": 18,
   "metadata": {},
   "outputs": [
    {
     "name": "stderr",
     "output_type": "stream",
     "text": [
      "[Stage 1879:=================================================>    (37 + 3) / 40]\r"
     ]
    },
    {
     "name": "stdout",
     "output_type": "stream",
     "text": [
      "+------------+----------------+---------+---------+-----------------+--------------+------------------+-------------+-----------------+\n",
      "|product_name|transaction_type|min_price|max_price|avg_price        |total_discount|total_transactions|running_total|running_avg      |\n",
      "+------------+----------------+---------+---------+-----------------+--------------+------------------+-------------+-----------------+\n",
      "|Accessories |High Value      |80       |99       |89.4948312319867 |39961734      |807736            |807736       |89.4948312319867 |\n",
      "|Tablet      |High Value      |80       |99       |89.49627143737823|39996605      |807818            |1615554      |89.49555133468246|\n",
      "|Mobile      |High Value      |80       |99       |89.50407044462351|39991525      |807897            |2423451      |89.49839103799614|\n",
      "|Laptop      |High Value      |80       |99       |89.49057357583195|40020453      |808472            |3231923      |89.49643667245509|\n",
      "|Headphones  |High Value      |80       |99       |89.50159977054295|40035295      |808866            |4040789      |89.49746929207267|\n",
      "+------------+----------------+---------+---------+-----------------+--------------+------------------+-------------+-----------------+\n",
      "only showing top 5 rows\n",
      "\n",
      "Time elapsed: 43.285534143447876 seconds\n"
     ]
    },
    {
     "name": "stderr",
     "output_type": "stream",
     "text": [
      "                                                                                \r"
     ]
    }
   ],
   "source": [
    "start_time = time.time()\n",
    "\n",
    "df_parquet = spark.read.parquet(\"../data/parquet/main_table\")\n",
    "\n",
    "# Alias DataFrames\n",
    "df_parquet_alias = df_parquet.alias(\"a\")\n",
    "high_cardinality_df_alias = high_cardinality_df.alias(\"b\")\n",
    "\n",
    "# Window specification\n",
    "windowSpec_pq = Window.partitionBy(\"a.transaction_type\").orderBy(\"total_transactions\")\n",
    "\n",
    "# Perform join, filter and aggregation\n",
    "df_parquet_alias.join(\n",
    "    high_cardinality_df_alias,\n",
    "    (df_parquet_alias[\"user_id\"] == high_cardinality_df_alias[\"transaction_id\"]) &\n",
    "    (high_cardinality_df_alias[\"store_id\"] >= 200) &\n",
    "    (high_cardinality_df_alias[\"store_id\"] <= 300)\n",
    ").groupBy(\n",
    "    \"a.product_name\",\n",
    "    \"a.transaction_type\"\n",
    ").agg(\n",
    "    F.min(\"a.price\").alias(\"min_price\"),\n",
    "    F.max(\"a.price\").alias(\"max_price\"),\n",
    "    F.avg(\"a.price\").alias(\"avg_price\"),\n",
    "    F.sum(\"b.discount\").alias(\"total_discount\"),\n",
    "    F.count(\"a.product_id\").alias(\"total_transactions\")\n",
    ").withColumn(\n",
    "    \"running_total\",\n",
    "    F.sum(\"total_transactions\").over(windowSpec_pq)\n",
    ").withColumn(\n",
    "    \"running_avg\",\n",
    "    F.avg(\"avg_price\").over(windowSpec_pq)\n",
    ").show(n=5, truncate=False)\n",
    "\n",
    "end_time = time.time()\n",
    "elapsed_time = end_time - start_time\n",
    "print(f\"Time elapsed: {elapsed_time} seconds\")"
   ]
  },
  {
   "cell_type": "markdown",
   "metadata": {},
   "source": [
    "#### 2. Hive Metastore Table (Bucketed)"
   ]
  },
  {
   "cell_type": "code",
   "execution_count": 19,
   "metadata": {},
   "outputs": [
    {
     "name": "stderr",
     "output_type": "stream",
     "text": [
      "[Stage 1893:====================================================> (39 + 1) / 40]\r"
     ]
    },
    {
     "name": "stdout",
     "output_type": "stream",
     "text": [
      "+------------+----------------+---------+---------+-----------------+--------------+------------------+-------------+-----------------+\n",
      "|product_name|transaction_type|min_price|max_price|avg_price        |total_discount|total_transactions|running_total|running_avg      |\n",
      "+------------+----------------+---------+---------+-----------------+--------------+------------------+-------------+-----------------+\n",
      "|Accessories |High Value      |80       |99       |89.4948312319867 |39961734      |807736            |807736       |89.4948312319867 |\n",
      "|Tablet      |High Value      |80       |99       |89.49627143737823|39996605      |807818            |1615554      |89.49555133468246|\n",
      "|Mobile      |High Value      |80       |99       |89.50407044462351|39991525      |807897            |2423451      |89.49839103799614|\n",
      "|Laptop      |High Value      |80       |99       |89.49057357583195|40020453      |808472            |3231923      |89.49643667245509|\n",
      "|Headphones  |High Value      |80       |99       |89.50159977054295|40035295      |808866            |4040789      |89.49746929207267|\n",
      "+------------+----------------+---------+---------+-----------------+--------------+------------------+-------------+-----------------+\n",
      "only showing top 5 rows\n",
      "\n",
      "Time elapsed: 42.22578525543213 seconds\n"
     ]
    },
    {
     "name": "stderr",
     "output_type": "stream",
     "text": [
      "                                                                                \r"
     ]
    }
   ],
   "source": [
    "high_cardinality_metastore_bucketed = run_sql(\n",
    "    \"\"\"\n",
    "    WITH AggregatedData AS (\n",
    "        SELECT \n",
    "        a.product_name,\n",
    "        a.transaction_type,\n",
    "        MIN(a.price) AS min_price,\n",
    "        MAX(a.price) AS max_price,\n",
    "        AVG(a.price) AS avg_price,\n",
    "        SUM(b.discount) AS total_discount,\n",
    "        COUNT(a.product_id) AS total_transactions\n",
    "        FROM default_db.default_bucketed_table a\n",
    "        JOIN high_card b\n",
    "        ON a.user_id = b.transaction_id\n",
    "        AND b.store_id >= 200\n",
    "        AND b.store_id <= 300\n",
    "        GROUP BY a.product_name, a.transaction_type\n",
    "    ),\n",
    "    WindowedData AS (\n",
    "    SELECT *,\n",
    "        SUM(total_transactions) OVER (PARTITION BY transaction_type ORDER BY total_transactions) AS running_total,\n",
    "        AVG(avg_price) OVER (PARTITION BY transaction_type ORDER BY total_transactions) AS running_avg\n",
    "        FROM AggregatedData\n",
    "    )\n",
    "    SELECT * FROM WindowedData\n",
    "    \"\"\",\n",
    "    show=True\n",
    ")"
   ]
  },
  {
   "cell_type": "markdown",
   "metadata": {},
   "source": [
    "#### 3. Hive Metastore Table (Partitioned)"
   ]
  },
  {
   "cell_type": "code",
   "execution_count": 20,
   "metadata": {},
   "outputs": [
    {
     "name": "stderr",
     "output_type": "stream",
     "text": [
      "[Stage 1908:====================================================> (33 + 1) / 34]\r"
     ]
    },
    {
     "name": "stdout",
     "output_type": "stream",
     "text": [
      "+------------+----------------+---------+---------+-----------------+--------------+------------------+-------------+-----------------+\n",
      "|product_name|transaction_type|min_price|max_price|avg_price        |total_discount|total_transactions|running_total|running_avg      |\n",
      "+------------+----------------+---------+---------+-----------------+--------------+------------------+-------------+-----------------+\n",
      "|Accessories |High Value      |80       |99       |89.4948312319867 |39961734      |807736            |807736       |89.4948312319867 |\n",
      "|Tablet      |High Value      |80       |99       |89.49627143737823|39996605      |807818            |1615554      |89.49555133468246|\n",
      "|Mobile      |High Value      |80       |99       |89.50407044462351|39991525      |807897            |2423451      |89.49839103799614|\n",
      "|Laptop      |High Value      |80       |99       |89.49057357583195|40020453      |808472            |3231923      |89.49643667245509|\n",
      "|Headphones  |High Value      |80       |99       |89.50159977054295|40035295      |808866            |4040789      |89.49746929207267|\n",
      "+------------+----------------+---------+---------+-----------------+--------------+------------------+-------------+-----------------+\n",
      "only showing top 5 rows\n",
      "\n",
      "Time elapsed: 50.307092905044556 seconds\n"
     ]
    },
    {
     "name": "stderr",
     "output_type": "stream",
     "text": [
      "                                                                                \r"
     ]
    }
   ],
   "source": [
    "high_cardinality_metastore_partitioned = run_sql(\n",
    "    \"\"\"\n",
    "    WITH AggregatedData AS (\n",
    "        SELECT \n",
    "        a.product_name,\n",
    "        a.transaction_type,\n",
    "        MIN(a.price) AS min_price,\n",
    "        MAX(a.price) AS max_price,\n",
    "        AVG(a.price) AS avg_price,\n",
    "        SUM(b.discount) AS total_discount,\n",
    "        COUNT(a.product_id) AS total_transactions\n",
    "        FROM default_db.default_partitioned_table a\n",
    "        JOIN high_card b\n",
    "        ON a.user_id = b.transaction_id\n",
    "        AND b.store_id >= 200\n",
    "        AND b.store_id <= 300\n",
    "        GROUP BY a.product_name, a.transaction_type\n",
    "    ),\n",
    "    WindowedData AS (\n",
    "    SELECT *,\n",
    "        SUM(total_transactions) OVER (PARTITION BY transaction_type ORDER BY total_transactions) AS running_total,\n",
    "        AVG(avg_price) OVER (PARTITION BY transaction_type ORDER BY total_transactions) AS running_avg\n",
    "        FROM AggregatedData\n",
    "    )\n",
    "    SELECT * FROM WindowedData\n",
    "    \"\"\",\n",
    "    show=True\n",
    ")"
   ]
  },
  {
   "cell_type": "markdown",
   "metadata": {},
   "source": [
    "#### 4. Delta Table"
   ]
  },
  {
   "cell_type": "code",
   "execution_count": 21,
   "metadata": {},
   "outputs": [
    {
     "name": "stderr",
     "output_type": "stream",
     "text": [
      "[Stage 1924:================================================>     (26 + 3) / 29]\r"
     ]
    },
    {
     "name": "stdout",
     "output_type": "stream",
     "text": [
      "+------------+----------------+---------+---------+-----------------+--------------+------------------+-------------+-----------------+\n",
      "|product_name|transaction_type|min_price|max_price|avg_price        |total_discount|total_transactions|running_total|running_avg      |\n",
      "+------------+----------------+---------+---------+-----------------+--------------+------------------+-------------+-----------------+\n",
      "|Accessories |High Value      |80       |99       |89.4948312319867 |39961734      |807736            |807736       |89.4948312319867 |\n",
      "|Tablet      |High Value      |80       |99       |89.49627143737823|39996605      |807818            |1615554      |89.49555133468246|\n",
      "|Mobile      |High Value      |80       |99       |89.50407044462351|39991525      |807897            |2423451      |89.49839103799614|\n",
      "|Laptop      |High Value      |80       |99       |89.49057357583195|40020453      |808472            |3231923      |89.49643667245509|\n",
      "|Headphones  |High Value      |80       |99       |89.50159977054295|40035295      |808866            |4040789      |89.49746929207267|\n",
      "+------------+----------------+---------+---------+-----------------+--------------+------------------+-------------+-----------------+\n",
      "only showing top 5 rows\n",
      "\n",
      "Time elapsed: 43.471189975738525 seconds\n"
     ]
    },
    {
     "name": "stderr",
     "output_type": "stream",
     "text": [
      "                                                                                \r"
     ]
    }
   ],
   "source": [
    "high_cardinality_delta = run_sql(\n",
    "    \"\"\"\n",
    "    WITH AggregatedData AS (\n",
    "        SELECT \n",
    "        a.product_name,\n",
    "        a.transaction_type,\n",
    "        MIN(a.price) AS min_price,\n",
    "        MAX(a.price) AS max_price,\n",
    "        AVG(a.price) AS avg_price,\n",
    "        SUM(b.discount) AS total_discount,\n",
    "        COUNT(a.product_id) AS total_transactions\n",
    "        FROM delta_db.main_table a\n",
    "        JOIN high_card b\n",
    "        ON a.user_id = b.transaction_id\n",
    "        AND b.store_id >= 200\n",
    "        AND b.store_id <= 300\n",
    "        GROUP BY a.product_name, a.transaction_type\n",
    "    ),\n",
    "    WindowedData AS (\n",
    "    SELECT *,\n",
    "        SUM(total_transactions) OVER (PARTITION BY transaction_type ORDER BY total_transactions) AS running_total,\n",
    "        AVG(avg_price) OVER (PARTITION BY transaction_type ORDER BY total_transactions) AS running_avg\n",
    "        FROM AggregatedData\n",
    "    )\n",
    "    SELECT * FROM WindowedData\n",
    "    \"\"\",\n",
    "    show=True\n",
    ")"
   ]
  },
  {
   "cell_type": "markdown",
   "metadata": {},
   "source": [
    "#### 5. Iceberg Table"
   ]
  },
  {
   "cell_type": "code",
   "execution_count": 22,
   "metadata": {},
   "outputs": [
    {
     "name": "stderr",
     "output_type": "stream",
     "text": [
      "[Stage 1938:================================================>     (36 + 4) / 40]\r"
     ]
    },
    {
     "name": "stdout",
     "output_type": "stream",
     "text": [
      "+------------+----------------+---------+---------+-----------------+--------------+------------------+-------------+-----------------+\n",
      "|product_name|transaction_type|min_price|max_price|avg_price        |total_discount|total_transactions|running_total|running_avg      |\n",
      "+------------+----------------+---------+---------+-----------------+--------------+------------------+-------------+-----------------+\n",
      "|Accessories |High Value      |80       |99       |89.4948312319867 |39961734      |807736            |807736       |89.4948312319867 |\n",
      "|Tablet      |High Value      |80       |99       |89.49627143737823|39996605      |807818            |1615554      |89.49555133468246|\n",
      "|Mobile      |High Value      |80       |99       |89.50407044462351|39991525      |807897            |2423451      |89.49839103799614|\n",
      "|Laptop      |High Value      |80       |99       |89.49057357583195|40020453      |808472            |3231923      |89.49643667245509|\n",
      "|Headphones  |High Value      |80       |99       |89.50159977054295|40035295      |808866            |4040789      |89.49746929207267|\n",
      "+------------+----------------+---------+---------+-----------------+--------------+------------------+-------------+-----------------+\n",
      "only showing top 5 rows\n",
      "\n",
      "Time elapsed: 51.00284385681152 seconds\n"
     ]
    },
    {
     "name": "stderr",
     "output_type": "stream",
     "text": [
      "                                                                                \r"
     ]
    }
   ],
   "source": [
    "high_cardinality_iceberg = run_sql(\n",
    "    \"\"\"\n",
    "    WITH AggregatedData AS (\n",
    "        SELECT \n",
    "        a.product_name,\n",
    "        a.transaction_type,\n",
    "        MIN(a.price) AS min_price,\n",
    "        MAX(a.price) AS max_price,\n",
    "        AVG(a.price) AS avg_price,\n",
    "        SUM(b.discount) AS total_discount,\n",
    "        COUNT(a.product_id) AS total_transactions\n",
    "        FROM iceberg_db.main_table a\n",
    "        JOIN high_card b\n",
    "        ON a.user_id = b.transaction_id\n",
    "        AND b.store_id >= 200\n",
    "        AND b.store_id <= 300\n",
    "        GROUP BY a.product_name, a.transaction_type\n",
    "    ),\n",
    "    WindowedData AS (\n",
    "    SELECT *,\n",
    "        SUM(total_transactions) OVER (PARTITION BY transaction_type ORDER BY total_transactions) AS running_total,\n",
    "        AVG(avg_price) OVER (PARTITION BY transaction_type ORDER BY total_transactions) AS running_avg\n",
    "        FROM AggregatedData\n",
    "    )\n",
    "    SELECT * FROM WindowedData\n",
    "    \"\"\",\n",
    "    show=True\n",
    ")"
   ]
  },
  {
   "cell_type": "markdown",
   "metadata": {},
   "source": [
    "### Low Cardinality Join Comparison\n",
    "---"
   ]
  },
  {
   "cell_type": "markdown",
   "metadata": {},
   "source": [
    "#### 0. CSV"
   ]
  },
  {
   "cell_type": "code",
   "execution_count": 23,
   "metadata": {},
   "outputs": [
    {
     "name": "stderr",
     "output_type": "stream",
     "text": [
      "[Stage 1949:==================================================>   (30 + 2) / 32]\r"
     ]
    },
    {
     "name": "stdout",
     "output_type": "stream",
     "text": [
      "Time elapsed: 32.20572590827942 seconds\n"
     ]
    },
    {
     "name": "stderr",
     "output_type": "stream",
     "text": [
      "                                                                                \r"
     ]
    }
   ],
   "source": [
    "start_time = time.time()\n",
    "\n",
    "df_csv.join(low_cardinality_df, df_csv.product_id == low_cardinality_df.store_id) \\\n",
    "    .where(\"store_region = 1\") \\\n",
    "    .count()\n",
    "\n",
    "end_time = time.time()\n",
    "elapsed_time = end_time - start_time\n",
    "\n",
    "print(f\"Time elapsed: {elapsed_time} seconds\")"
   ]
  },
  {
   "cell_type": "markdown",
   "metadata": {},
   "source": [
    "#### 1. Parquet"
   ]
  },
  {
   "cell_type": "code",
   "execution_count": 24,
   "metadata": {},
   "outputs": [
    {
     "name": "stderr",
     "output_type": "stream",
     "text": [
      "[Stage 1953:>                                                       (0 + 8) / 8]\r"
     ]
    },
    {
     "name": "stdout",
     "output_type": "stream",
     "text": [
      "Time elapsed: 2.8671212196350098 seconds\n"
     ]
    },
    {
     "name": "stderr",
     "output_type": "stream",
     "text": [
      "                                                                                \r"
     ]
    }
   ],
   "source": [
    "start_time = time.time()\n",
    "\n",
    "df_parquet.join(low_cardinality_df, df_parquet.product_id == low_cardinality_df.store_id) \\\n",
    "    .where(\"day_of_year > 200 AND day_of_year < 365\") \\\n",
    "    .count()\n",
    "\n",
    "end_time = time.time()\n",
    "elapsed_time = end_time - start_time\n",
    "\n",
    "print(f\"Time elapsed: {elapsed_time} seconds\")"
   ]
  },
  {
   "cell_type": "markdown",
   "metadata": {},
   "source": [
    "#### 2. Hive Metastore Table (Bucketed)"
   ]
  },
  {
   "cell_type": "code",
   "execution_count": 25,
   "metadata": {},
   "outputs": [
    {
     "name": "stderr",
     "output_type": "stream",
     "text": [
      "[Stage 1957:==============================================>      (87 + 8) / 100]\r"
     ]
    },
    {
     "name": "stdout",
     "output_type": "stream",
     "text": [
      "+--------+\n",
      "|count(1)|\n",
      "+--------+\n",
      "|44931427|\n",
      "+--------+\n",
      "\n",
      "Time elapsed: 2.1369290351867676 seconds\n"
     ]
    },
    {
     "name": "stderr",
     "output_type": "stream",
     "text": [
      "                                                                                \r"
     ]
    }
   ],
   "source": [
    "low_cardinality_bucketed = run_sql(\n",
    "    \"\"\"\n",
    "    SELECT COUNT(*)\n",
    "    FROM default_db.default_bucketed_table a\n",
    "    JOIN low_card b\n",
    "    ON a.product_id = b.store_id\n",
    "    WHERE day_of_year > 200 AND day_of_year < 365\n",
    "    \"\"\",\n",
    "    show=True\n",
    ")"
   ]
  },
  {
   "cell_type": "markdown",
   "metadata": {},
   "source": [
    "#### 3. Hive Metastore Table (Partitioned)"
   ]
  },
  {
   "cell_type": "code",
   "execution_count": 26,
   "metadata": {},
   "outputs": [
    {
     "name": "stderr",
     "output_type": "stream",
     "text": [
      "[Stage 1961:==============================>                       (24 + 8) / 43]\r"
     ]
    },
    {
     "name": "stdout",
     "output_type": "stream",
     "text": [
      "+--------+\n",
      "|count(1)|\n",
      "+--------+\n",
      "|44931427|\n",
      "+--------+\n",
      "\n",
      "Time elapsed: 1.7597320079803467 seconds\n"
     ]
    },
    {
     "name": "stderr",
     "output_type": "stream",
     "text": [
      "                                                                                \r"
     ]
    }
   ],
   "source": [
    "low_cardinality_partitioned = run_sql(\n",
    "    \"\"\"\n",
    "    SELECT COUNT(*)\n",
    "    FROM default_db.default_partitioned_table a\n",
    "    JOIN low_card b\n",
    "    ON a.product_id = b.store_id\n",
    "    WHERE day_of_year > 200 AND day_of_year < 365\n",
    "    \"\"\",\n",
    "    show=True\n",
    ")"
   ]
  },
  {
   "cell_type": "markdown",
   "metadata": {},
   "source": [
    "#### 4. Delta Table"
   ]
  },
  {
   "cell_type": "code",
   "execution_count": 27,
   "metadata": {},
   "outputs": [
    {
     "name": "stdout",
     "output_type": "stream",
     "text": [
      "+--------+\n",
      "|count(1)|\n",
      "+--------+\n",
      "|44931427|\n",
      "+--------+\n",
      "\n",
      "Time elapsed: 1.3927130699157715 seconds\n"
     ]
    }
   ],
   "source": [
    "low_cardinality_delta = run_sql(\n",
    "    \"\"\"\n",
    "    SELECT COUNT(*)\n",
    "    FROM delta_db.main_table a\n",
    "    JOIN low_card b\n",
    "    ON a.product_id = b.store_id\n",
    "    WHERE day_of_year > 200 AND day_of_year < 365\n",
    "    \"\"\",\n",
    "    show=True\n",
    ")"
   ]
  },
  {
   "cell_type": "markdown",
   "metadata": {},
   "source": [
    "#### 5. Iceberg"
   ]
  },
  {
   "cell_type": "code",
   "execution_count": 28,
   "metadata": {},
   "outputs": [
    {
     "name": "stderr",
     "output_type": "stream",
     "text": [
      "[Stage 1971:============================>                           (1 + 1) / 2]\r"
     ]
    },
    {
     "name": "stdout",
     "output_type": "stream",
     "text": [
      "+--------+\n",
      "|count(1)|\n",
      "+--------+\n",
      "|44931427|\n",
      "+--------+\n",
      "\n",
      "Time elapsed: 3.0303919315338135 seconds\n"
     ]
    },
    {
     "name": "stderr",
     "output_type": "stream",
     "text": [
      "                                                                                \r"
     ]
    }
   ],
   "source": [
    "low_cardinality_iceberg = run_sql(\n",
    "    \"\"\"\n",
    "    SELECT COUNT(*)\n",
    "    FROM iceberg_db.main_table a\n",
    "    JOIN low_card b\n",
    "    ON a.product_id = b.store_id\n",
    "    WHERE day_of_year > 200 AND day_of_year < 365\n",
    "    \"\"\",\n",
    "    show=True\n",
    ")"
   ]
  },
  {
   "cell_type": "code",
   "execution_count": 29,
   "metadata": {},
   "outputs": [],
   "source": [
    "spark.stop()"
   ]
  },
  {
   "cell_type": "markdown",
   "metadata": {},
   "source": [
    "---\n",
    "**E.O.D**"
   ]
  }
 ],
 "metadata": {
  "kernelspec": {
   "display_name": "data_quality",
   "language": "python",
   "name": "python3"
  },
  "language_info": {
   "codemirror_mode": {
    "name": "ipython",
    "version": 3
   },
   "file_extension": ".py",
   "mimetype": "text/x-python",
   "name": "python",
   "nbconvert_exporter": "python",
   "pygments_lexer": "ipython3",
   "version": "3.11.6"
  }
 },
 "nbformat": 4,
 "nbformat_minor": 2
}
