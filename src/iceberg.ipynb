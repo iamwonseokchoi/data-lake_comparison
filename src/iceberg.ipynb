{
 "cells": [
  {
   "cell_type": "markdown",
   "metadata": {},
   "source": [
    "# Iceberg Warehouse Handling\n",
    "---"
   ]
  },
  {
   "cell_type": "markdown",
   "metadata": {},
   "source": [
    "We will be using the `sparksql-magic` module to run SQL queries directly in our notebook environment\n",
    "```\n",
    "pip install sparksql-magic\n",
    "```\n",
    "Setup:\n",
    "```\n",
    "%load_ext sparksql_magic\n",
    "```\n",
    "Configs:\n",
    "```\n",
    "%config SparkSql.limit=<INT> # Where <INT> is number of rows to display\n",
    "%%sparksql [-c|--cache] [-e|--eager] [-v|--view VIEW] [-l|--limit LIMIT] [variable]\n",
    "<QUERY>\n",
    "# -c: Cache DF\n",
    "# -e: Eager load DF\n",
    "# -v: Create or replace temp view\n",
    "# -l: Max display rows\n",
    "# variable: Capture dataframe in local variable\n",
    "```"
   ]
  },
  {
   "cell_type": "code",
   "execution_count": 1,
   "metadata": {},
   "outputs": [
    {
     "name": "stdout",
     "output_type": "stream",
     "text": [
      ":: loading settings :: url = jar:file:/Users/wonseokchoi/Documents/Installs/spark-3.4.1-bin-hadoop3/jars/ivy-2.5.1.jar!/org/apache/ivy/core/settings/ivysettings.xml\n"
     ]
    },
    {
     "name": "stderr",
     "output_type": "stream",
     "text": [
      "Ivy Default Cache set to: /Users/wonseokchoi/.ivy2/cache\n",
      "The jars for the packages stored in: /Users/wonseokchoi/.ivy2/jars\n",
      "io.delta#delta-core_2.12 added as a dependency\n",
      "org.apache.iceberg#iceberg-spark-runtime-3.4_2.12 added as a dependency\n",
      ":: resolving dependencies :: org.apache.spark#spark-submit-parent-d13899d4-5016-4239-97b3-1dcc483c31ff;1.0\n",
      "\tconfs: [default]\n",
      "\tfound io.delta#delta-core_2.12;2.4.0 in central\n",
      "\tfound io.delta#delta-storage;2.4.0 in central\n",
      "\tfound org.antlr#antlr4-runtime;4.9.3 in central\n",
      "\tfound org.apache.iceberg#iceberg-spark-runtime-3.4_2.12;1.4.0 in central\n",
      ":: resolution report :: resolve 112ms :: artifacts dl 4ms\n",
      "\t:: modules in use:\n",
      "\tio.delta#delta-core_2.12;2.4.0 from central in [default]\n",
      "\tio.delta#delta-storage;2.4.0 from central in [default]\n",
      "\torg.antlr#antlr4-runtime;4.9.3 from central in [default]\n",
      "\torg.apache.iceberg#iceberg-spark-runtime-3.4_2.12;1.4.0 from central in [default]\n",
      "\t---------------------------------------------------------------------\n",
      "\t|                  |            modules            ||   artifacts   |\n",
      "\t|       conf       | number| search|dwnlded|evicted|| number|dwnlded|\n",
      "\t---------------------------------------------------------------------\n",
      "\t|      default     |   4   |   0   |   0   |   0   ||   4   |   0   |\n",
      "\t---------------------------------------------------------------------\n",
      ":: retrieving :: org.apache.spark#spark-submit-parent-d13899d4-5016-4239-97b3-1dcc483c31ff\n",
      "\tconfs: [default]\n",
      "\t0 artifacts copied, 4 already retrieved (0kB/4ms)\n",
      "Setting default log level to \"WARN\".\n",
      "To adjust logging level use sc.setLogLevel(newLevel). For SparkR, use setLogLevel(newLevel).\n"
     ]
    }
   ],
   "source": [
    "from spark_config import create_spark_session\n",
    "\n",
    "spark = create_spark_session(\n",
    "    app=\"ComparisonApp\",\n",
    "    warehouse_location=\"../data/\",\n",
    "    icebergdb=\"iceberg_db\"\n",
    ")"
   ]
  },
  {
   "cell_type": "code",
   "execution_count": 2,
   "metadata": {},
   "outputs": [],
   "source": [
    "%load_ext sparksql_magic\n",
    "%config SparkSql.limit=5"
   ]
  },
  {
   "cell_type": "code",
   "execution_count": 7,
   "metadata": {},
   "outputs": [
    {
     "name": "stderr",
     "output_type": "stream",
     "text": [
      "[Stage 0:>                                                          (0 + 1) / 1]\r"
     ]
    },
    {
     "name": "stdout",
     "output_type": "stream",
     "text": [
      "only showing top 5 row(s)\n"
     ]
    },
    {
     "name": "stderr",
     "output_type": "stream",
     "text": [
      "                                                                                \r"
     ]
    },
    {
     "data": {
      "text/html": [
       "<table><tr style=\"border-bottom: 1px solid\"><td style=\"font-weight: bold\">user_id</td><td style=\"font-weight: bold\">product_id</td><td style=\"font-weight: bold\">price</td><td style=\"font-weight: bold\">day_of_year</td><td style=\"font-weight: bold\">product_name</td><td style=\"font-weight: bold\">transaction_type</td></tr><tr><td>0</td><td>0</td><td>34</td><td>0</td><td>Laptop</td><td>Low Value</td></tr><tr><td>1</td><td>1</td><td>56</td><td>1</td><td>Mobile</td><td>Medium Value</td></tr><tr><td>2</td><td>2</td><td>57</td><td>2</td><td>Tablet</td><td>Medium Value</td></tr><tr><td>3</td><td>3</td><td>46</td><td>3</td><td>Headphones</td><td>Low Value</td></tr><tr><td>4</td><td>4</td><td>25</td><td>4</td><td>Accessories</td><td>Low Value</td></tr></table>"
      ],
      "text/plain": [
       "<IPython.core.display.HTML object>"
      ]
     },
     "execution_count": 7,
     "metadata": {},
     "output_type": "execute_result"
    }
   ],
   "source": [
    "%%sparksql\n",
    "\n",
    "SELECT * FROM iceberg_db.main_table; "
   ]
  },
  {
   "cell_type": "code",
   "execution_count": 24,
   "metadata": {},
   "outputs": [
    {
     "data": {
      "text/html": [
       "<table><tr style=\"border-bottom: 1px solid\"></tr></table>"
      ],
      "text/plain": [
       "<IPython.core.display.HTML object>"
      ]
     },
     "execution_count": 24,
     "metadata": {},
     "output_type": "execute_result"
    }
   ],
   "source": [
    "%%sparksql \n",
    "\n",
    "ALTER TABLE iceberg_db.main_table\n",
    "ADD PARTITION FIELD\n",
    "bucket(10, user_id);"
   ]
  },
  {
   "cell_type": "code",
   "execution_count": 15,
   "metadata": {},
   "outputs": [
    {
     "name": "stdout",
     "output_type": "stream",
     "text": [
      "only showing top 5 row(s)\n"
     ]
    },
    {
     "data": {
      "text/html": [
       "<table><tr style=\"border-bottom: 1px solid\"><td style=\"font-weight: bold\">user_id</td><td style=\"font-weight: bold\">product_id</td><td style=\"font-weight: bold\">price</td><td style=\"font-weight: bold\">day_of_year</td><td style=\"font-weight: bold\">product_name</td><td style=\"font-weight: bold\">transaction_type</td></tr><tr><td>1001</td><td>1</td><td>23</td><td>271</td><td>Mobile</td><td>Low Value</td></tr><tr><td>1002</td><td>2</td><td>4</td><td>272</td><td>Tablet</td><td>Low Value</td></tr><tr><td>1003</td><td>3</td><td>69</td><td>273</td><td>Headphones</td><td>Medium Value</td></tr><tr><td>1004</td><td>4</td><td>52</td><td>274</td><td>Accessories</td><td>Medium Value</td></tr><tr><td>1005</td><td>5</td><td>69</td><td>275</td><td>Laptop</td><td>Medium Value</td></tr></table>"
      ],
      "text/plain": [
       "<IPython.core.display.HTML object>"
      ]
     },
     "execution_count": 15,
     "metadata": {},
     "output_type": "execute_result"
    }
   ],
   "source": [
    "%%sparksql \n",
    "\n",
    "SELECT * FROM iceberg_db.main_table\n",
    "WHERE user_id > 1000;"
   ]
  }
 ],
 "metadata": {
  "kernelspec": {
   "display_name": "data_quality",
   "language": "python",
   "name": "python3"
  },
  "language_info": {
   "codemirror_mode": {
    "name": "ipython",
    "version": 3
   },
   "file_extension": ".py",
   "mimetype": "text/x-python",
   "name": "python",
   "nbconvert_exporter": "python",
   "pygments_lexer": "ipython3",
   "version": "3.11.6"
  }
 },
 "nbformat": 4,
 "nbformat_minor": 2
}
